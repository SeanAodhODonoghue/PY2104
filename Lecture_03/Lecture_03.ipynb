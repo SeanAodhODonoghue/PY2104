{
 "cells": [
  {
   "cell_type": "markdown",
   "id": "397fb48b-93f4-4fd0-88a7-eb51b5c7f4d9",
   "metadata": {},
   "source": [
    "# The first law of thermodynamics"
   ]
  },
  {
   "cell_type": "markdown",
   "id": "a60780bd-cecf-4adf-b04f-c79198aa0313",
   "metadata": {},
   "source": [
    "At the end of the last lecture, we stated the first law. In mathematical form, this is:\n",
    "$$ \n",
    "    {\\rm d U} = {\\rm d}Q + {\\rm d}W.\n",
    "$$\n",
    "Now we want to figure out how ${\\rm d}W$ term behaves. To do this, consider the below setup.\n",
    "\n",
    "![Sealed_Container](Figures/Sealed_Container.png)\n",
    "\n",
    "The force used on the piston to compress the gas is $F=P A$, where $A$ is the area of the piston. By compressing the gas such that it's change in volume is $-{\\rm d}V$, we also get that $A{\\rm d}x=-{\\rm d}V$. Thus, the work done in compressing the gas is given by\n",
    "$$\n",
    "    {\\rm d}W = F {\\rm d} x = -P {\\rm d} V\n",
    "$$\n",
    "This assumes that the process is reversible, but we'll come back to that later on. So, the first law can also be written as\n",
    "$$ \n",
    "    {\\rm d U} = {\\rm d}Q -P {\\rm d} V\n",
    "$$\n",
    "for reversible processes."
   ]
  },
  {
   "cell_type": "markdown",
   "id": "92da2c89-6c48-4315-ab98-64ec668f6ce2",
   "metadata": {},
   "source": [
    "# Revisiting Heat Capacity"
   ]
  },
  {
   "cell_type": "markdown",
   "id": "62494cfa-41f9-462b-8ed6-352ad9ff3861",
   "metadata": {},
   "source": [
    "Ok, let's return to our definition of heat capacity from lecture 1, which stated that\n",
    "$$\n",
    "    {\\rm d}Q = C {\\rm d T}  \\Rightarrow C = \\frac{{\\rm d}Q}{{\\rm d}T}\n",
    "$$\n",
    "We now want to use this expression in combination with the first law to see how adding heat changes the internal energy of a gas.\n",
    "\n",
    "To do this, let's start with the internal energy of gas, and say that this is only a function of temperature and volume such that $U=U(T,V)$. A small change in the internal energy can thus be written as\n",
    "$$\n",
    "    {\\rm d} U = \\left(\\frac{\\partial U}{\\partial T}\\right)_V {\\rm d} T + \\left(\\frac{\\partial U}{\\partial V}\\right)_T {\\rm d} V\n",
    "$$\n",
    "Rearranging the first law such that it's in relation to ${\\rm d} Q$ gives\n",
    "$$\n",
    "    {\\rm d} Q = {\\rm d}U +P {\\rm d} V = \\left(\\frac{\\partial U}{\\partial T}\\right)_V {\\rm d} T + \\left[ \\left(\\frac{\\partial U}{\\partial V}\\right)_T +P \\right] {\\rm d} V.\n",
    "$$\n",
    "Now, taking the derivative of this with respect to ${\\rm d} T$ gives\n",
    "$$\n",
    "    \\frac{{\\rm d} Q}{{\\rm d} T} = \\left(\\frac{\\partial U}{\\partial T}\\right)_V + \\left[ \\left(\\frac{\\partial U}{\\partial V}\\right)_T +P \\right] \\frac{{\\rm d} V}{{\\rm d}T}\n",
    "$$\n",
    "So the heat capacity at constant volume then becomes\n",
    "$$\n",
    "    C_V = \\left(\\frac{{\\rm d} Q}{{\\rm d} T}\\right)_V = \\left(\\frac{\\partial U}{\\partial T}\\right)_V.\n",
    "$$\n",
    "The heat capacity at constant pressure is then\n",
    "$$\n",
    "    C_P = \\left(\\frac{{\\rm d} Q}{{\\rm d} T}\\right)_P = \\left(\\frac{\\partial U}{\\partial T}\\right)_V + \\left[ \\left(\\frac{\\partial U}{\\partial V}\\right)_T +P \\right] \\left( \\frac{{\\rm d} V}{{\\rm d}T}\\right)_P\n",
    "$$\n",
    "which then gives\n",
    "$$\n",
    "    C_P-C_V = \\left[ \\left(\\frac{\\partial U}{\\partial V}\\right)_T +P \\right] \\left( \\frac{{\\rm d} V}{{\\rm d}T}\\right)_P.\n",
    "$$\n",
    "Finally, the ratio of these two heat capacities is called the Adiabatic Index, and is given by\n",
    "$$\n",
    "    \\gamma = \\frac{C_P}{C_V}\n",
    "$$"
   ]
  },
  {
   "cell_type": "markdown",
   "id": "1ad70a4c-5214-4a6b-af8c-a3d1ff14a57e",
   "metadata": {},
   "source": [
    "## The Heat Capacity of an Ideal Gas"
   ]
  },
  {
   "cell_type": "markdown",
   "id": "1aa6e347-a48a-4a67-a290-2f79b11b33d2",
   "metadata": {},
   "source": [
    "Given that the internal energy of one mole of ideal gas is given by $U=\\frac{3}{2} R T$, let's derive expressions for $C_P$ and $C_V$.\n",
    "First, note that the internal energy is independant of volume. As such \n",
    "$$\n",
    "    \\frac{\\partial U}{\\partial V}=0.\n",
    "$$\n",
    "For one mole of ideal gas, we know that $P V = R T$, so\n",
    "$$\n",
    "    V = \\frac{R T}{P}\n",
    "$$\n",
    "which gives\n",
    "$$\n",
    "    \\left(\\frac{\\partial V}{\\partial T}\\right)_P = \\frac{R}{P}\n",
    "$$\n",
    "So then the heat capacities are\n",
    "\\begin{align}\n",
    "    C_V &= \\left(\\frac{\\partial U}{\\partial T}\\right)_V = \\frac{3}{2}R\\\\\n",
    "    C_P-C_V &= \\left[ \\left(\\frac{\\partial U}{\\partial V}\\right)_T +P \\right] \\left( \\frac{{\\rm d} V}{{\\rm d}T}\\right)_P = R\\\\\n",
    "    C_P &= \\frac{5}{2}R\n",
    "\\end{align}"
   ]
  },
  {
   "cell_type": "markdown",
   "id": "14b7bbdd-2ae2-4345-988c-0ced28d15a70",
   "metadata": {},
   "source": [
    "# Reversibility, Isothermal Expansions, and Adiabatic expansions"
   ]
  },
  {
   "cell_type": "markdown",
   "id": "f6c61608-0c4e-4462-82de-0f41dea0a692",
   "metadata": {},
   "source": [
    "In most scenarios, a physical process involves heat being dissipated away into the surrounding environment. This means that such a process is very difficult to naturally reverse as it is very unlikely that the lost energy will flow back into the system. A nice example of this is to consider an egg falling off a table. It will hit the floor and shatter, losing some energy into the ground in the process. \n",
    "\n",
    "A more formal way of thinking about this is that, for large numbers, the statistical behaviour of them make more outcomes more likely than order (remember how graph of the statistical weight looked). As such, this suggests that when dealing with large numbers, physical changes appear to be driven in an irreverisble direction.\n",
    "\n",
    "Our challenge now is to come up with a way of carrying out a process reversibly (and was the challenge faced by physicists when attempting to construct the most efficient engine possible).\n",
    "\n",
    "So, how do we do things reverisbly? Consider expanding or compressing a gas. If we do it very, very slowly, then the gas will remain in equilibrium throughout the process. Such a process is referred to as **quasistatic**.\n",
    "\n",
    "There are two such processes which we consider below."
   ]
  },
  {
   "cell_type": "markdown",
   "id": "960df8a9-5a88-4f08-be0c-11efb3fcf9fd",
   "metadata": {},
   "source": [
    "## Isothermal expansion of an Ideal Gas"
   ]
  },
  {
   "cell_type": "markdown",
   "id": "b851fdfc-cea1-4930-9195-83e97956b5fe",
   "metadata": {},
   "source": [
    "Consider a reversible, isothermal expansion of an ideal gas. Isothermal here means \"at constant temperature\", such that ${\\rm \\Delta}T=0$. We want to know what the heat change of such a gas is. As a starting point, let's consider the internal energy of the gas:\n",
    "$$\n",
    "    {\\rm d} U = C {\\rm dT} = 0.\n",
    "$$\n",
    "This means that, from the first law,\n",
    "$$\n",
    "    {\\rm d} Q = -{\\rm d}W\n",
    "$$\n",
    "So, the work done by the gas as it expands is equal to the heat it absorbs from its surroundings. Recalling from earlier that ${\\rm d}W=-P {\\rm d}V$ for a reversible process, we can then obtain the total heat absorbed by the gas:\n",
    "\\begin{align}\n",
    "    {\\rm \\Delta} Q &= \\int {\\rm d} Q\\\\\n",
    "     &= -\\int {\\rm d} W\\\\\n",
    "     &= \\int^{V_2}_{V_1} P{\\rm d} V\\\\\n",
    "     &= \\int^{V_2}_{V_1} \\frac{N k_{\\rm B} T}{V}{\\rm d} V\\\\\n",
    "     &= N k_{\\rm B} T \\ln \\frac{V_2}{V_1}\\\\\n",
    "     &= R T \\ln \\frac{V_2}{V_1}\n",
    "\\end{align}\n",
    "where that last expression is for one mole of ideal gas.\n",
    "\n",
    "So, for an expansion $V_2>V_1$, so ${\\rm \\Delta} Q > 0$"
   ]
  },
  {
   "cell_type": "markdown",
   "id": "15bc722b-ade8-47c2-8120-960f189bbcc1",
   "metadata": {},
   "source": [
    "## Adiabatic expansion of an Ideal Gas"
   ]
  },
  {
   "cell_type": "markdown",
   "id": "20abea0e-e2ee-4be6-afb9-54af2f72b52b",
   "metadata": {},
   "source": [
    "Consider a reversible, adiathermal expansion of an ideal gas. Adiathermal here means \"without flow of heat\". A process which is both adiathermal and reversible is **adiabatic**. For this process\n",
    "$$\n",
    "    {\\rm d} Q = 0.\n",
    "$$\n",
    "This means that, from the first law,\n",
    "$$\n",
    "    {\\rm d} U = {\\rm d}W\n",
    "$$\n",
    "For an ideal gas, we have that ${\\rm d} U = C_V {\\rm d T}$, and because the process is reversible we again have that ${\\rm d}W=-P {\\rm d}V$. As such, we have that\n",
    "\\begin{align}\n",
    "    C_V {\\rm d T} &= -P {\\rm d}V = - \\frac{Nk_{\\rm B}}{V} {\\rm d}V\\\\\n",
    "\\end{align}\n",
    "Let's work with one mole of ideal gas for the moment ($N_{\\rm A} k_{\\rm B}=R$). As such, we get\n",
    "\\begin{align}\n",
    "    \\ln \\frac{T_2}{T_1} &= -\\frac{R}{C_V} \\ln \\frac{V_2}{V_1}.\n",
    "\\end{align}\n",
    "Recalling that $C_P=C_V+R$ we find that\n",
    "$$\n",
    "    \\gamma = \\frac{C_P}{C_V}=1+\\frac{R}{C_V}\n",
    "$$\n",
    "which gives\n",
    "$$\n",
    "    -\\frac{R}{C_V} = 1-\\gamma.\n",
    "$$\n",
    "This let's us simplify the above expression to get\n",
    "$$\n",
    "    \\ln \\frac{T_2}{T_1} = (1-\\gamma) \\ln \\frac{V_2}{V_1} = \\ln \\left(\\frac{V_2}{V_1}\\right)^{1-\\gamma}\n",
    "$$\n",
    "Finally, we get that\n",
    "$$\n",
    "    TV^{1-\\gamma} = const\n",
    "$$\n",
    "Using the ideal gas law ($P V \\propto T$) let's us rewrites this as both\n",
    "\\begin{align}\n",
    "    P^{1-\\gamma} T^{\\gamma} &= const\\\\\n",
    "    P V^{\\gamma} &= const\n",
    "\\end{align}"
   ]
  },
  {
   "cell_type": "markdown",
   "id": "b30f0a8a-f4e2-42a5-bb5f-f9a0ab325d42",
   "metadata": {},
   "source": [
    "# The second law of thermodynamics"
   ]
  },
  {
   "cell_type": "markdown",
   "id": "ae7230b1-7746-43f7-b860-b324194f9877",
   "metadata": {},
   "source": [
    "There are two ways of stating this:\n",
    "\n",
    "1. No process is possible whose sole result is the transfer of heat from a colder to a hotter body.\n",
    "2. No process is possible whose sole result is the complete conversion of heat into work."
   ]
  },
  {
   "cell_type": "code",
   "execution_count": null,
   "id": "4cd8d478-d20f-432c-bc7d-c6ccba084a7e",
   "metadata": {},
   "outputs": [],
   "source": []
  }
 ],
 "metadata": {
  "kernelspec": {
   "display_name": "Python 3 (ipykernel)",
   "language": "python",
   "name": "python3"
  },
  "language_info": {
   "codemirror_mode": {
    "name": "ipython",
    "version": 3
   },
   "file_extension": ".py",
   "mimetype": "text/x-python",
   "name": "python",
   "nbconvert_exporter": "python",
   "pygments_lexer": "ipython3",
   "version": "3.8.10"
  }
 },
 "nbformat": 4,
 "nbformat_minor": 5
}
