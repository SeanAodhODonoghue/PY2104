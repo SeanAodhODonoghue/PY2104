{
 "cells": [
  {
   "cell_type": "markdown",
   "id": "397fb48b-93f4-4fd0-88a7-eb51b5c7f4d9",
   "metadata": {},
   "source": [
    "# The first law of thermodynamics"
   ]
  },
  {
   "cell_type": "markdown",
   "id": "a60780bd-cecf-4adf-b04f-c79198aa0313",
   "metadata": {},
   "source": [
    "At the end of the last lecture, we stated the first law. In mathematical form, this is:\n",
    "$$ \n",
    "    {\\rm d U} = {\\rm d}Q + {\\rm d}W.\n",
    "$$\n",
    "Now we want to figure out how ${\\rm d}W$ term behaves. To do this, consider the below setup.\n",
    "\n",
    "![Sealed_Container](Figures/Sealed_Container.png)\n",
    "\n",
    "The force used on the piston to compress the gas is $F=P A$, where $A$ is the area of the piston. By compressing the gas such that it's change in volume is $-{\\rm d}V$, we also get that $A{\\rm d}x=-{\\rm d}V$. Thus, the work done in compressing the gas is given by\n",
    "$$\n",
    "    {\\rm d}W = F {\\rm d} x = -P {\\rm d} V\n",
    "$$\n",
    "This assumes that the process is reversible, but we'll come back to that later on. So, the first law can also be written as\n",
    "$$ \n",
    "    {\\rm d U} = {\\rm d}Q -P {\\rm d} V\n",
    "$$\n",
    "for reversible processes."
   ]
  },
  {
   "cell_type": "markdown",
   "id": "92da2c89-6c48-4315-ab98-64ec668f6ce2",
   "metadata": {},
   "source": [
    "# Revisiting Heat Capacity"
   ]
  },
  {
   "cell_type": "markdown",
   "id": "62494cfa-41f9-462b-8ed6-352ad9ff3861",
   "metadata": {},
   "source": [
    "Ok, let's return to our definition of heat capacity from lecture 1, which stated that\n",
    "$$\n",
    "    {\\rm d}Q = C {\\rm d T}  \\Rightarrow C = \\frac{{\\rm d}Q}{{\\rm d}T}\n",
    "$$\n",
    "We now want to use this expression in combination with the first law to see how adding heat changes the internal energy of a gas.\n",
    "\n",
    "To do this, let's start with the internal energy of gas, and say that this is only a function of temperature and volume such that $U=U(T,V)$. A small change in the internal energy can thus be written as\n",
    "$$\n",
    "    {\\rm d} U = \\left(\\frac{\\partial U}{\\partial T}\\right)_V {\\rm d} T + \\left(\\frac{\\partial U}{\\partial V}\\right)_T {\\rm d} V\n",
    "$$\n",
    "Rearranging the first law such that it's in relation to ${\\rm d} Q$ gives\n",
    "$$\n",
    "    {\\rm d} Q = {\\rm d}U +P {\\rm d} V = \\left(\\frac{\\partial U}{\\partial T}\\right)_V {\\rm d} T + \\left[ \\left(\\frac{\\partial U}{\\partial V}\\right)_T +P \\right] {\\rm d} V.\n",
    "$$\n",
    "Now, taking the derivative of this with respect to ${\\rm d} T$ gives\n",
    "$$\n",
    "    \\frac{{\\rm d} Q}{{\\rm d} T} = \\left(\\frac{\\partial U}{\\partial T}\\right)_V + \\left[ \\left(\\frac{\\partial U}{\\partial V}\\right)_T +P \\right] \\frac{{\\rm d} V}{{\\rm d}T}\n",
    "$$\n",
    "So the heat capacity at constant volume then becomes\n",
    "$$\n",
    "    C_V = \\left(\\frac{{\\rm d} Q}{{\\rm d} T}\\right)_V = \\left(\\frac{\\partial U}{\\partial T}\\right)_V.\n",
    "$$\n",
    "The heat capacity at constant pressure is then\n",
    "$$\n",
    "    C_P = \\left(\\frac{{\\rm d} Q}{{\\rm d} T}\\right)_P = \\left(\\frac{\\partial U}{\\partial T}\\right)_V + \\left[ \\left(\\frac{\\partial U}{\\partial V}\\right)_T +P \\right] \\left( \\frac{{\\rm d} V}{{\\rm d}T}\\right)_P\n",
    "$$\n",
    "which then gives\n",
    "$$\n",
    "    C_P-C_V = \\left[ \\left(\\frac{\\partial U}{\\partial V}\\right)_T +P \\right] \\left( \\frac{{\\rm d} V}{{\\rm d}T}\\right)_P.\n",
    "$$\n",
    "Finally, the ratio of these two heat capacities is called the Adiabatic Index, and is given by\n",
    "$$\n",
    "    \\gamma = \\frac{C_P}{C_V}\n",
    "$$"
   ]
  },
  {
   "cell_type": "markdown",
   "id": "14b7bbdd-2ae2-4345-988c-0ced28d15a70",
   "metadata": {},
   "source": [
    "# Reversibility, Isothermal Expansions, and Adiabatic expansions"
   ]
  },
  {
   "cell_type": "markdown",
   "id": "b30f0a8a-f4e2-42a5-bb5f-f9a0ab325d42",
   "metadata": {},
   "source": [
    "# The second law of thermodynamics"
   ]
  },
  {
   "cell_type": "code",
   "execution_count": null,
   "id": "85197b21-3bfb-40ca-96fe-3cde8324dc91",
   "metadata": {},
   "outputs": [],
   "source": []
  }
 ],
 "metadata": {
  "kernelspec": {
   "display_name": "Python 3 (ipykernel)",
   "language": "python",
   "name": "python3"
  },
  "language_info": {
   "codemirror_mode": {
    "name": "ipython",
    "version": 3
   },
   "file_extension": ".py",
   "mimetype": "text/x-python",
   "name": "python",
   "nbconvert_exporter": "python",
   "pygments_lexer": "ipython3",
   "version": "3.8.10"
  }
 },
 "nbformat": 4,
 "nbformat_minor": 5
}
