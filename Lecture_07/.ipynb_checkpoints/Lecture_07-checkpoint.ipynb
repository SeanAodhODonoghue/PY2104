{
 "cells": [
  {
   "cell_type": "markdown",
   "id": "79987eb2-3e7c-4245-b583-a92ff24f99c5",
   "metadata": {},
   "source": [
    "# Thermodynamic Potentials"
   ]
  },
  {
   "cell_type": "markdown",
   "id": "014a0df5-51c6-4039-bd8c-46d17c085a85",
   "metadata": {},
   "source": [
    "Up until this point, we have been working a lot with the internal energy if a system, $U$, which is a function of state. In principle, we can combine $U$ with any other functions of state ($P$, $V$, $S$, $T$) to create new functions of state. This are called **thermodynamic potentiels**. In this next section, we are going to look at some thermodynamic potentials which can be very useful in certain situations."
   ]
  },
  {
   "cell_type": "markdown",
   "id": "88294c8f-351c-409f-a432-89c58acfa7fd",
   "metadata": {},
   "source": [
    "## Internal energy, $U$"
   ]
  },
  {
   "cell_type": "markdown",
   "id": "60982136-8784-4386-bc55-41bb5da1c552",
   "metadata": {},
   "source": [
    "We've spent a lot of time dealing with $U$, so I'm not going to dwell on it too much. Below is simply a summary of where we've encountered $U$ previously.\n",
    "First,\n",
    "$$\n",
    "    {\\rm d}U = T{\\rm d}S - P{\\rm d} V\n",
    "$$\n",
    "which is the fundamental thermodynamic potential. From this, we can state that, $U=U(S,V)$. Now we will define an isochoric process as one during which the volume stays constant (${\\rm d} V = 0$). In this case, we have\n",
    "$$\n",
    "    {\\rm d}U = T{\\rm d}S\n",
    "$$\n",
    "If we have a reversible isochoric process, then we also have that\n",
    "$$\n",
    "    {\\rm d}U = {\\rm d}Q = C_V {\\rm d} T\n",
    "$$\n",
    "Thus\n",
    "$$\n",
    "    \\Delta U = \\int_{T_1} ^{T_2} C_V {\\rm d} T\n",
    "$$\n",
    "The fundamental thermodynamic relation also gives us that \n",
    "$$\n",
    "   T = \\left(\\frac{\\partial U}{\\partial S}\\right)_V ; P = -\\left(\\frac{\\partial U}{\\partial V}\\right)_S\n",
    "$$\n",
    "\n",
    "This is only true at constant volume. To handle a process at constant pressure, we need a different potential.\n"
   ]
  },
  {
   "cell_type": "markdown",
   "id": "95718d1a-e010-4447-8c59-038885bc5f2b",
   "metadata": {},
   "source": [
    "## Enthalpy, H"
   ]
  },
  {
   "cell_type": "markdown",
   "id": "d5f7a204-1d06-4ae1-966e-d52462a29480",
   "metadata": {},
   "source": [
    "Let enthalpy be\n",
    "$$\n",
    "    H = U+PV.\n",
    "$$\n",
    "Thus, an infinitesimal change in $H$ is given by\n",
    "\\begin{align}\n",
    "    {\\rm d} H &= T{\\rm d} S - P {\\rm d} V + P {\\rm d} V + V {\\rm d} P\\\\\n",
    "    {\\rm d} H &= T{\\rm d} S + V {\\rm d} P\n",
    "\\end{align}\n",
    "From this, we can say that $H=H(S,P)$. For an isobaric process (${\\rm d}P=0$), we then have\n",
    "$$\n",
    "    {\\rm d} H = T{\\rm d} S\n",
    "$$\n",
    "and for a reversible process we have\n",
    "$$\n",
    "    {\\rm d}H = {\\rm d}Q = C_P {\\rm d} T\n",
    "$$\n",
    "Thus\n",
    "$$\n",
    "    \\Delta H = \\int_{T_1} ^{T_2} C_P {\\rm d} T\n",
    "$$\n",
    "Thus, for a process performed at contant pressure, then the enthalpy represents the heat transferred to or from the system.\n",
    "Our definition of the enthalpy also gives us that\n",
    "$$\n",
    "   T = \\left(\\frac{\\partial H}{\\partial S}\\right)_P ; V = \\left(\\frac{\\partial H}{\\partial P}\\right)_S\n",
    "$$"
   ]
  },
  {
   "cell_type": "markdown",
   "id": "5b50513f-bf8f-4552-9066-9626ac55bf88",
   "metadata": {},
   "source": [
    "## Helmholtz Free Energy (or Helmholtz Function)"
   ]
  },
  {
   "cell_type": "markdown",
   "id": "a77fb4cf-2f96-4112-b807-b5347e7db3c7",
   "metadata": {},
   "source": [
    "The above potentials are both functions of entropy, $S$, which can difficult to vary experimentally. This next thermodynamic potential does not suffer the same drawback. Let's define the Helmholtz Free Energy as\n",
    "$$\n",
    "    F = U - TS.\n",
    "$$\n",
    "This gives\n",
    "\\begin{align}\n",
    "    {\\rm d} F &= T {\\rm d} S - P {\\rm d} V - T {\\rm d} S - S {\\rm d} T\\\\\n",
    "              &= - S {\\rm d} T - P {\\rm d} V\n",
    "\\end{align}\n",
    "From this, we can say that $F=F(T,V)$. For an isothermal process, we thus have\n",
    "$$\n",
    "    {\\rm d} F = - P {\\rm d} V\n",
    "$$\n",
    "giving\n",
    "$$\n",
    "    \\Delta F = - \\int_{V_1}^{V_2} P {\\rm d} V\n",
    "$$\n",
    "Our definition of the Helmholtz Free Energy also gives us that\n",
    "$$\n",
    "   S = -\\left(\\frac{\\partial F}{\\partial T}\\right)_V ; P = -\\left(\\frac{\\partial F}{\\partial V}\\right)_T\n",
    "$$"
   ]
  },
  {
   "cell_type": "markdown",
   "id": "c99d8173-e0dd-4190-830c-122ffd0dee32",
   "metadata": {},
   "source": [
    "## Gibbs Free Energy (or Gibbs Function)"
   ]
  },
  {
   "cell_type": "markdown",
   "id": "40375e5c-5799-4658-bfda-ce46dcf339f8",
   "metadata": {},
   "source": [
    "Let\n",
    "$$\n",
    "    G = H - TS\n",
    "$$\n",
    "This gives\n",
    "\\begin{align}\n",
    "    {\\rm d} G &= T {\\rm d} S + V {\\rm d} P - T {\\rm d} S - S {\\rm d} T\\\\\n",
    "              &= - S {\\rm d} T + V {\\rm d} P\n",
    "\\end{align}\n",
    "Thus $G=G(T,P)$, which is particularly useful as both $T$ and $P$ are easy to control and change in experiments. Thus, if you have an isothermal isobaric process, then ${\\rm d} G = 0$. This will be useful when we are studying phase transitions later.\n",
    "Our definition of the Gibbs Free Energy also gives us that\n",
    "$$\n",
    "   S = -\\left(\\frac{\\partial G}{\\partial T}\\right)_P ; V = \\left(\\frac{\\partial G}{\\partial P}\\right)_T\n",
    "$$"
   ]
  },
  {
   "cell_type": "markdown",
   "id": "9fcee8fe-830e-4e6b-a647-a9f5f8fee6cc",
   "metadata": {},
   "source": [
    "# Availability"
   ]
  },
  {
   "cell_type": "markdown",
   "id": "f7394049-e778-44f8-a986-720591ad6903",
   "metadata": {},
   "source": [
    "So what use are these new thermodynamic potentials? As a starting point, consider the setup below where we have a system inside some surroundings. The system will be allowed to exchange heat and to do work on the surroundings.\n",
    "\n",
    "![Entropy_of_mixing](Figures/Surroundings.png)\n",
    "\n",
    "So what happens when energy ${\\rm d} U$ and volume ${\\rm d} V$ are transferred from the surroundings to the system? First, the internal energy of the surroundings will change according to the 1st law by\n",
    "$$\n",
    "    {\\rm d} U_0 = - {\\rm d} U = T_0 {\\rm d} S_0 - P_0 (- {\\rm d} V)\n",
    "$$\n",
    "The $-$ in ${\\rm d} U$ and in ${\\rm d} V$ are because these quantites are being transferred **to** the system, and as such are negative for the surroundings. Rearranging we have\n",
    "$$\n",
    "    {\\rm d} S_0 = - \\left(\\frac{{\\rm d} U + P_0  {\\rm d} V}{T_0}\\right)\n",
    "$$\n",
    "If the entropy of the system changes by ${\\rm d} S$ during this process, then the total change in entropy is\n",
    "$$\n",
    "    {\\rm d} S_{\\rm Total} = {\\rm d} S_0 + {\\rm d} S.\n",
    "$$\n",
    "The second law tells us that ${\\rm d} S_{\\rm Total} \\geq 0$. Combining this with the above equation then gives\n",
    "$$\n",
    "    T_0 {\\rm d} S_{\\rm Total} = -({\\rm d} U + P_0 {\\rm d} V - T_0 {\\rm d} S) \\geq 0\n",
    "$$\n",
    "giving\n",
    "$$\n",
    "    {\\rm d} U + P_0 {\\rm d} V - T_0 {\\rm d} S \\leq 0.\n",
    "$$\n",
    "We will now define a new variable called **availability** and let it be\n",
    "$$\n",
    "    A  = U + P_0 V - T_0 S\n",
    "$$\n",
    "such that (given that $P_0$ and $T_0$ are constants)\n",
    "$$\n",
    "    {\\rm d} A  = {\\rm d} U + P_0 {\\rm d}V - T_0 {\\rm d}S.\n",
    "$$\n",
    "This means that\n",
    "$$\n",
    "    {\\rm d} A \\leq 0\n",
    "$$\n",
    "What does this actually mean? It tells us that any changes in a system as it settles down to equilibrium will decrease $A$. When at equilibrium, $A$ remains constant. As such, in order to figure out what the equilibrium conditions for a system are, all we have to do is minimise $A$. However, the type of equilibrium we are trying to achieve will affect how $A$ is minimised. What exactly does this mean? Consider the following examples, which will also tie together our thermodynamic potentials."
   ]
  },
  {
   "cell_type": "markdown",
   "id": "0828ff14-84a4-4ee8-b6a1-99dddd464a91",
   "metadata": {},
   "source": [
    "## Fixed entropy & volume"
   ]
  },
  {
   "cell_type": "markdown",
   "id": "8bdca1fd-9fa9-400d-84af-57621cef1624",
   "metadata": {},
   "source": [
    "This means that ${\\rm d} S=0$ and ${\\rm d} V=0$. Thus, we have that\n",
    "$$\n",
    "    {\\rm d} A  = {\\rm d} U\n",
    "$$\n",
    "and\n",
    "$$\n",
    "    {\\rm d} A = {\\rm d} U \\leq 0.\n",
    "$$\n",
    "As such, we must minimise the internal energy $U$ to find the equilibrium state of this system."
   ]
  },
  {
   "cell_type": "markdown",
   "id": "3708a51b-3ad4-44a4-8af6-c0e39b6d0af7",
   "metadata": {},
   "source": [
    "## Fixed entropy & pressure"
   ]
  },
  {
   "cell_type": "markdown",
   "id": "ff25f7c5-fc73-46d6-8361-c6895b781b84",
   "metadata": {},
   "source": [
    "This means that ${\\rm d} S=0$ and ${\\rm d} P=0$. Thus, we have that\n",
    "$$\n",
    "    {\\rm d} A  = {\\rm d} U + P_0 {\\rm d}V \n",
    "$$\n",
    "Recalling now that the enthalpy $H = U+PV$, such that \n",
    "$$\n",
    "    {\\rm d} H = {\\rm d} U + P {\\rm d} V + V {\\rm d} P\n",
    "$$\n",
    "which, for constant pressure, becomes\n",
    "$$\n",
    "    {\\rm d} H = {\\rm d} U + P {\\rm d} V\n",
    "$$\n",
    "As such, the change in availability is given by \n",
    "$$\n",
    "    {\\rm d} A  = {\\rm d} H \\leq 0.\n",
    "$$\n",
    "As such, we must minimise the enthalpy $H$ to find the equilibrium state of this system."
   ]
  },
  {
   "cell_type": "markdown",
   "id": "af6157fb-087e-4520-96f3-826ae64c9348",
   "metadata": {},
   "source": [
    "## Thermally isolated & fixed volume"
   ]
  },
  {
   "cell_type": "markdown",
   "id": "79601de3-2176-40a7-a3f1-d5063d378c50",
   "metadata": {},
   "source": [
    "If a system is thermally isolated, then ${\\rm d} U = 0$. Thus \n",
    "$$\n",
    "    {\\rm d} A  = - T_0 {\\rm d} S \\leq 0\n",
    "$$\n",
    "which gives \n",
    "$$\n",
    "    {\\rm d} S  \\geq 0\n",
    "$$\n",
    "As such, we must maximise the entropy to the find equilibrium state of this system."
   ]
  },
  {
   "cell_type": "markdown",
   "id": "ab930142-bb97-4736-a250-88318c9b9534",
   "metadata": {},
   "source": [
    "## Fixed temperature & volume"
   ]
  },
  {
   "cell_type": "markdown",
   "id": "e145abea-e8ea-47b7-86bc-b70f3bc56510",
   "metadata": {},
   "source": [
    "This means that ${\\rm d} T=0$ and ${\\rm d} V=0$. Thus, we have that\n",
    "$$\n",
    "    {\\rm d} A  = {\\rm d} U - T_0 {\\rm d}S\n",
    "$$\n",
    "Recalling that the Helmholtz Free Energy is $F = U - TS$, and following the same steps as for the fixed entropy and pressure scenario, we are left with\n",
    "$$\n",
    "    {\\rm d} A = {\\rm d} F \\leq 0.\n",
    "$$\n",
    "So we must minimise the Helmholtz Free energy to find the equilibrium state."
   ]
  },
  {
   "cell_type": "markdown",
   "id": "7ee264d2-2158-4a54-b6f4-23455aeadd82",
   "metadata": {},
   "source": [
    "## Fixed pressure and temperature"
   ]
  },
  {
   "cell_type": "markdown",
   "id": "99bb63d9-a72e-4d6b-96d3-43b352e82303",
   "metadata": {},
   "source": [
    "This means that ${\\rm d} T=0$ and ${\\rm d} P=0$. Thus, we have that\n",
    "$$\n",
    "    {\\rm d} A  = {\\rm d} U + P_0 {\\rm d}V - T_0 {\\rm d}S \\leq 0\n",
    "$$\n",
    "Recalling that the Gibbs Free Energy is $G = H - TS = U + PV - TS$, we get that\n",
    "\\begin{align}\n",
    "    {\\rm d} G &= {\\rm d}U + P_0 {\\rm d}V + V{\\rm d}P_0 - T_0{\\rm d}S - S{\\rm d}T_0\\\\\n",
    "              &= {\\rm d}U + P_0 {\\rm d}V - T_0{\\rm d}S\n",
    "\\end{align}\n",
    "for constant $T_0$ and $P_0$. We then get\n",
    "$$\n",
    "    {\\rm d} A = {\\rm d} G \\leq 0\n",
    "$$\n",
    "So we must minimise the Gibbs Free energy to find the equilibrium state."
   ]
  },
  {
   "cell_type": "markdown",
   "id": "71a6b369-07be-4bc9-909d-3950c6083c5d",
   "metadata": {},
   "source": [
    "So now we can see where these thermodynamic potentials come in use. Let's consider an example next."
   ]
  },
  {
   "cell_type": "markdown",
   "id": "ac6a12ae-76f8-4ca7-8916-877d25ef49b8",
   "metadata": {},
   "source": [
    "# Maxwell's Relations"
   ]
  },
  {
   "cell_type": "markdown",
   "id": "2a2d04a9-3ea7-485c-85ac-efcb02b4e55a",
   "metadata": {},
   "source": [
    "Now we are going to use the results of the 4 thermodynamic potentials to derive what are known as Maxwell's relations. First, we need to do a bit of setup. For a general function of two variables which has an exact differential, $f(x,y)$, we have that\n",
    "$$\n",
    "    {\\rm d}f = \\left(\\frac{\\partial f}{\\partial x}\\right)_y {\\rm d}x + \\left(\\frac{\\partial f}{\\partial y}\\right)_x {\\rm d}y\n",
    "$$\n",
    "as we've used many times before. Because ${\\rm d}f$ is an exact differential we can say that\n",
    "$$\n",
    "    \\left(\\frac{\\partial ^2 f}{\\partial x \\partial y}\\right) = \\left(\\frac{\\partial ^2 f}{\\partial y \\partial x}\\right)\n",
    "$$\n",
    "If we then write\n",
    "$$\n",
    "    F_x = \\left(\\frac{\\partial f}{\\partial x}\\right)_y ; \\:\\:\\: F_y = \\left(\\frac{\\partial f}{\\partial y}\\right)_x\n",
    "$$\n",
    "we have\n",
    "$$\n",
    "    \\frac{\\partial F_y}{\\partial x} = \\frac{\\partial F_x}{\\partial y}.\n",
    "$$\n",
    "We can now use these relations on $U$, $H$, $F$, and $G$."
   ]
  },
  {
   "cell_type": "markdown",
   "id": "8e7c71dc-7fbe-4838-84c5-29c1b3211a23",
   "metadata": {},
   "source": [
    "## Example using the Gibbs Free Energy"
   ]
  },
  {
   "cell_type": "markdown",
   "id": "3492b308-5601-4743-8417-34b5dc139ab6",
   "metadata": {},
   "source": [
    "The Gibbs Free Energy is $G = H - TS$. As we saw earlier, this gives us that\n",
    "$$\n",
    "    {\\rm d} G= - S {\\rm d} T + V {\\rm d} P.\n",
    "$$\n",
    "We can also write ${\\rm d} G$ as\n",
    "$$\n",
    "    {\\rm d} G= \\left(\\frac{\\partial G}{\\partial T}\\right)_P {\\rm d}T + \\left(\\frac{\\partial G}{\\partial P}\\right)_T {\\rm d}P\n",
    "$$\n",
    "which gives\n",
    "$$\n",
    "   S = -\\left(\\frac{\\partial G}{\\partial T}\\right)_P; \\:\\:\\: V = \\left(\\frac{\\partial G}{\\partial P}\\right)_T\n",
    "$$\n",
    "Let's consider the first of these statements. We can perform the following operation\n",
    "$$\n",
    "    -\\left(\\frac{\\partial S}{\\partial P}\\right)_T = \\left(\\frac{\\partial^2 G}{\\partial P \\partial T}\\right)\n",
    "$$\n",
    "We can do the following to the second statement\n",
    "$$\n",
    "    \\left(\\frac{\\partial V}{\\partial T}\\right)_P = \\left(\\frac{\\partial^2 G}{\\partial T \\partial P}\\right)\n",
    "$$\n",
    "Now\n",
    "$$\n",
    "    \\left(\\frac{\\partial^2 G}{\\partial T \\partial P}\\right) = \\left(\\frac{\\partial^2 G}{\\partial P \\partial T}\\right)\n",
    "$$\n",
    "because $G$ is a function of state (${\\rm d}G$ is an exact differential). So, we get that\n",
    "$$\n",
    "    -\\left(\\frac{\\partial S}{\\partial P}\\right)_T = \\left(\\frac{\\partial V}{\\partial T}\\right)_P\n",
    "$$\n",
    "This is one of Maxwell's relations. We can do the same analysis for the other 3 thermodyanmic potentials, and we end up with the following relations\n",
    "\\begin{align}\n",
    "    \\left(\\frac{\\partial T}{\\partial V}\\right)_S &= - \\left(\\frac{\\partial P}{\\partial S}\\right)_V\\\\\n",
    "    \\left(\\frac{\\partial T}{\\partial P}\\right)_S &= \\left(\\frac{\\partial V}{\\partial S}\\right)_P\\\\\n",
    "    \\left(\\frac{\\partial S}{\\partial V}\\right)_T &= \\left(\\frac{\\partial P}{\\partial T}\\right)_V\\\\\n",
    "    \\left(\\frac{\\partial S}{\\partial P}\\right)_T &= -\\left(\\frac{\\partial V}{\\partial T}\\right)_P\n",
    "\\end{align}"
   ]
  },
  {
   "cell_type": "code",
   "execution_count": null,
   "id": "520029af-ac90-4f78-b325-e25f180f00f6",
   "metadata": {},
   "outputs": [],
   "source": []
  }
 ],
 "metadata": {
  "kernelspec": {
   "display_name": "Python 3 (ipykernel)",
   "language": "python",
   "name": "python3"
  },
  "language_info": {
   "codemirror_mode": {
    "name": "ipython",
    "version": 3
   },
   "file_extension": ".py",
   "mimetype": "text/x-python",
   "name": "python",
   "nbconvert_exporter": "python",
   "pygments_lexer": "ipython3",
   "version": "3.8.10"
  }
 },
 "nbformat": 4,
 "nbformat_minor": 5
}
